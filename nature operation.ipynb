{
 "cells": [
  {
   "cell_type": "code",
   "execution_count": 75,
   "id": "1cdc5968",
   "metadata": {},
   "outputs": [],
   "source": [
    "import pandas as pd\n",
    "import numpy as np\n",
    "import matplotlib.pyplot as plt\n",
    "import seaborn as sns\n",
    "import nltk\n",
    "from nltk.stem import WordNetLemmatizer\n",
    "from nltk.tokenize import TweetTokenizer\n",
    "from sklearn.model_selection import train_test_split\n",
    "from sklearn.feature_extraction.text import TfidfVectorizer\n",
    "from sklearn import metrics\n",
    "from sklearn.metrics import confusion_matrix,roc_auc_score,classification_report\n",
    "from sklearn.neighbors import KNeighborsClassifier\n",
    "from sklearn.tree import DecisionTreeClassifier\n",
    "from sklearn.ensemble import RandomForestClassifier\n",
    "from sklearn.svm import SVC\n",
    "from sklearn.naive_bayes import MultinomialNB"
   ]
  },
  {
   "cell_type": "code",
   "execution_count": 76,
   "id": "73d6c65c",
   "metadata": {},
   "outputs": [],
   "source": [
    "import random\n",
    "import csv\n",
    "\n",
    "operations = [\n",
    "    {\n",
    "        \"operation\": \"consultation derniers virements\",\n",
    "        \"phrases\": [\"Consulte les derniers virements.\", \"Vérifie les virements récents.\", \"Regarde les dernières transactions.\"]\n",
    "    },\n",
    "    {\n",
    "        \"operation\": \"payer une facture\",\n",
    "        \"phrases\": [\"Paye une facture d'<NATURE> de <MONTANT> euros.\", \"Effectue le paiement d'une facture d'<NATURE> d'un montant de <MONTANT> euros.\", \"Règle la facture d'<NATURE> de <MONTANT> euros.\"]\n",
    "    },\n",
    "    {\n",
    "        \"operation\": \"savoir le numéro de RIB\",\n",
    "        \"phrases\": [\"Demande mon numéro de RIB.\", \"Obtiens mon numéro de RIB.\", \"Savoir mon RIB.\"]\n",
    "    },\n",
    "    {\n",
    "        \"operation\": \"demander une carte bancaire ou un carnet de chèque\",\n",
    "        \"phrases\": [\"Demande une carte bancaire.\", \"Sollicite l'obtention d'une carte bancaire ou d'un carnet de chèque.\", \"Fais la demande pour obtenir une carte bancaire.\"]\n",
    "    },\n",
    "    {\n",
    "        \"operation\": \"consultation du solde\",\n",
    "        \"phrases\": [\"Consulte mon solde.\", \"Vérifie le solde de mon compte.\", \"Regarde combien j'ai d'argent sur mon compte.\"]\n",
    "    },\n",
    "    {\n",
    "        \"operation\": \"virement\",\n",
    "        \"phrases\": [\"Effectue un virement de <MONTANT> euros à <NOM>.\", \"Transfère <MONTANT> euros à <NOM>.\", \"Verse <MONTANT> euros à <NOM>.\"]\n",
    "    }\n",
    "]\n",
    "\n",
    "destinataires = [\"mohamed\", \"rachid\", \"khadija\", \"karima\", \"yassine\", \"karim\", \"omar\", \"fatima\", \"imane\", \"hicham\"]\n",
    "natures_facture = [\"eau\", \"électricité\", \"téléphone\"]\n",
    "\n",
    "dataset = []\n",
    "\n",
    "for operation in operations:\n",
    "    for _ in range(5000):\n",
    "        phrase_principale = random.choice([\"Effectue\", \"Réalise\", \"Effectuer\", \"Faire\"])\n",
    "        phrase = random.choice(operation['phrases'])\n",
    "        phrase = phrase.replace(\"<MONTANT>\", str(random.randint(10, 1000)))\n",
    "        montant = None\n",
    "        destinataire = None\n",
    "        nature_facture = None\n",
    "        if operation['operation'] == 'virement':\n",
    "            montant = random.randint(10, 1000)\n",
    "            destinataire = random.choice(destinataires)\n",
    "            phrase = phrase.replace(\"<NOM>\", destinataire)\n",
    "        elif operation['operation'] == 'payer une facture':\n",
    "            montant = random.randint(10, 1000)\n",
    "            nature_facture = random.choice(natures_facture)\n",
    "            phrase = phrase.replace(\"<NATURE>\", nature_facture)\n",
    "        data = {\n",
    "            \"phrase\": phrase,\n",
    "            \"operation\": operation['operation'],\n",
    "            \"montant\": montant,\n",
    "            \"destinataire\": destinataire,\n",
    "            \"nature_facture\": nature_facture\n",
    "        }\n",
    "        dataset.append(data)\n",
    "\n",
    "with open('dataset_operations2.csv', 'w', newline='') as f:\n",
    "    fieldnames = ['phrase', 'operation', 'montant', 'destinataire', 'nature_facture']\n",
    "    writer = csv.DictWriter(f, fieldnames=fieldnames)\n",
    "    writer.writeheader()\n",
    "    writer.writerows(dataset)\n",
    "\n"
   ]
  },
  {
   "cell_type": "code",
   "execution_count": 77,
   "id": "2cc711c6",
   "metadata": {},
   "outputs": [],
   "source": [
    "data=pd.read_csv('C:/Users/HP/dataset_operations2.csv', encoding='ISO-8859-1')"
   ]
  },
  {
   "cell_type": "code",
   "execution_count": 79,
   "id": "252047ac",
   "metadata": {},
   "outputs": [],
   "source": [
    "data=data[['phrase','operation']]\n"
   ]
  },
  {
   "cell_type": "code",
   "execution_count": 80,
   "id": "602d8348",
   "metadata": {},
   "outputs": [
    {
     "data": {
      "text/html": [
       "<div>\n",
       "<style scoped>\n",
       "    .dataframe tbody tr th:only-of-type {\n",
       "        vertical-align: middle;\n",
       "    }\n",
       "\n",
       "    .dataframe tbody tr th {\n",
       "        vertical-align: top;\n",
       "    }\n",
       "\n",
       "    .dataframe thead th {\n",
       "        text-align: right;\n",
       "    }\n",
       "</style>\n",
       "<table border=\"1\" class=\"dataframe\">\n",
       "  <thead>\n",
       "    <tr style=\"text-align: right;\">\n",
       "      <th></th>\n",
       "      <th>phrase</th>\n",
       "      <th>operation</th>\n",
       "    </tr>\n",
       "  </thead>\n",
       "  <tbody>\n",
       "    <tr>\n",
       "      <th>0</th>\n",
       "      <td>Vérifie les virements récents.</td>\n",
       "      <td>consultation derniers virements</td>\n",
       "    </tr>\n",
       "    <tr>\n",
       "      <th>1</th>\n",
       "      <td>Vérifie les virements récents.</td>\n",
       "      <td>consultation derniers virements</td>\n",
       "    </tr>\n",
       "    <tr>\n",
       "      <th>2</th>\n",
       "      <td>Vérifie les virements récents.</td>\n",
       "      <td>consultation derniers virements</td>\n",
       "    </tr>\n",
       "    <tr>\n",
       "      <th>3</th>\n",
       "      <td>Regarde les dernières transactions.</td>\n",
       "      <td>consultation derniers virements</td>\n",
       "    </tr>\n",
       "    <tr>\n",
       "      <th>4</th>\n",
       "      <td>Vérifie les virements récents.</td>\n",
       "      <td>consultation derniers virements</td>\n",
       "    </tr>\n",
       "  </tbody>\n",
       "</table>\n",
       "</div>"
      ],
      "text/plain": [
       "                                phrase                        operation\n",
       "0       Vérifie les virements récents.  consultation derniers virements\n",
       "1       Vérifie les virements récents.  consultation derniers virements\n",
       "2       Vérifie les virements récents.  consultation derniers virements\n",
       "3  Regarde les dernières transactions.  consultation derniers virements\n",
       "4       Vérifie les virements récents.  consultation derniers virements"
      ]
     },
     "execution_count": 80,
     "metadata": {},
     "output_type": "execute_result"
    }
   ],
   "source": [
    "data.head()"
   ]
  },
  {
   "cell_type": "code",
   "execution_count": 82,
   "id": "552dbf22",
   "metadata": {},
   "outputs": [
    {
     "name": "stdout",
     "output_type": "stream",
     "text": [
      "Précision du modèle : 100.00%\n",
      "Phrase : Consulte mon solde.\n",
      "Opération prédite : consultation du solde\n"
     ]
    }
   ],
   "source": [
    "import pandas as pd\n",
    "from sklearn.feature_extraction.text import TfidfVectorizer\n",
    "from sklearn.linear_model import LogisticRegression\n",
    "from sklearn.model_selection import train_test_split\n",
    "\n",
    "\n",
    "# Diviser les données en variables d'entrée (phrases) et variable cible (opération)\n",
    "X = data['phrase']\n",
    "y = data['operation']\n",
    "\n",
    "# Vectorisation des phrases en utilisant TF-IDF\n",
    "vectorizer = TfidfVectorizer()\n",
    "X_vectorized = vectorizer.fit_transform(X)\n",
    "\n",
    "# Diviser les données en ensembles d'entraînement et de test\n",
    "X_train, X_test, y_train, y_test = train_test_split(X_vectorized, y, test_size=0.2, random_state=42)\n",
    "\n",
    "# Entraîner un modèle de régression logistique\n",
    "model = LogisticRegression()\n",
    "model.fit(X_train, y_train)\n",
    "\n",
    "# Évaluer la précision du modèle sur les données de test\n",
    "accuracy = model.score(X_test, y_test)\n",
    "print(\"Précision du modèle : {:.2f}%\".format(accuracy * 100))\n",
    "\n",
    "# Exemple de prédiction\n",
    "phrase_test = \"Consulte mon solde.\"\n",
    "phrase_test_vectorized = vectorizer.transform([phrase_test])\n",
    "prediction = model.predict(phrase_test_vectorized)\n",
    "print(\"Phrase : {}\".format(phrase_test))\n",
    "print(\"Opération prédite : {}\".format(prediction[0]))\n"
   ]
  },
  {
   "cell_type": "code",
   "execution_count": 83,
   "id": "86684140",
   "metadata": {},
   "outputs": [
    {
     "name": "stdout",
     "output_type": "stream",
     "text": [
      "                                                    precision    recall  f1-score   support\n",
      "\n",
      "                   consultation derniers virements       1.00      1.00      1.00       978\n",
      "                             consultation du solde       1.00      1.00      1.00      1033\n",
      "demander une carte bancaire ou un carnet de chèque       1.00      1.00      1.00       950\n",
      "                                 payer une facture       1.00      1.00      1.00      1024\n",
      "                           savoir le numéro de RIB       1.00      1.00      1.00      1046\n",
      "                                          virement       1.00      1.00      1.00       969\n",
      "\n",
      "                                          accuracy                           1.00      6000\n",
      "                                         macro avg       1.00      1.00      1.00      6000\n",
      "                                      weighted avg       1.00      1.00      1.00      6000\n",
      "\n"
     ]
    }
   ],
   "source": [
    "y_predict= model.predict(X_test)\n",
    "print(classification_report(y_test,y_predict))"
   ]
  },
  {
   "cell_type": "code",
   "execution_count": null,
   "id": "ff241250",
   "metadata": {},
   "outputs": [],
   "source": []
  }
 ],
 "metadata": {
  "kernelspec": {
   "display_name": "Python 3 (ipykernel)",
   "language": "python",
   "name": "python3"
  },
  "language_info": {
   "codemirror_mode": {
    "name": "ipython",
    "version": 3
   },
   "file_extension": ".py",
   "mimetype": "text/x-python",
   "name": "python",
   "nbconvert_exporter": "python",
   "pygments_lexer": "ipython3",
   "version": "3.9.13"
  }
 },
 "nbformat": 4,
 "nbformat_minor": 5
}
