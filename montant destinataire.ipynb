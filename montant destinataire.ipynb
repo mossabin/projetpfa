{
 "cells": [
  {
   "cell_type": "code",
   "execution_count": 21,
   "id": "bb29d4d3",
   "metadata": {},
   "outputs": [],
   "source": [
    "import random\n",
    "import csv\n",
    "\n",
    "destinataires = [\"mohamed\", \"rachid\", \"khadija\", \"karima\", \"yassine\", \"karim\", \"omar\", \"fatima\", \"imane\", \"hicham\"]\n",
    "\n",
    "dataset = []\n",
    "\n",
    "for _ in range(10000):\n",
    "    montant = random.randint(10, 1000)\n",
    "    destinataire = random.choice(destinataires)\n",
    "    phrase_principale = random.choice([\"Effectue un virement de\", \"Transfère\", \"Verse\", \"Envoie\"])\n",
    "    phrase = f\"{phrase_principale} {montant} euros à <NOM>{destinataire}</NOM>.\"\n",
    "    data = {\n",
    "        \"phrase\": phrase,\n",
    "        \"destinataire\": destinataire,\n",
    "        \"montant\": montant\n",
    "    }\n",
    "    dataset.append(data)\n",
    "\n",
    "with open('dataset_virements.csv', 'w', newline='') as f:\n",
    "    fieldnames = ['phrase', 'destinataire', 'montant']\n",
    "    writer = csv.DictWriter(f, fieldnames=fieldnames)\n",
    "    writer.writeheader()\n",
    "    for data in dataset:\n",
    "        writer.writerow(data)\n"
   ]
  },
  {
   "cell_type": "code",
   "execution_count": 22,
   "id": "de7378ea",
   "metadata": {},
   "outputs": [],
   "source": [
    "import pandas as pd\n",
    "\n",
    "data = pd.read_csv('C:/Users/HP/dataset_virements.csv', encoding='ISO-8859-1')\n",
    "\n",
    "X = data['phrase']\n",
    "y_destinataire = data['destinataire']\n",
    "y_montant = data['montant']"
   ]
  },
  {
   "cell_type": "code",
   "execution_count": 25,
   "id": "6f72dd13",
   "metadata": {},
   "outputs": [
    {
     "data": {
      "text/html": [
       "<div>\n",
       "<style scoped>\n",
       "    .dataframe tbody tr th:only-of-type {\n",
       "        vertical-align: middle;\n",
       "    }\n",
       "\n",
       "    .dataframe tbody tr th {\n",
       "        vertical-align: top;\n",
       "    }\n",
       "\n",
       "    .dataframe thead th {\n",
       "        text-align: right;\n",
       "    }\n",
       "</style>\n",
       "<table border=\"1\" class=\"dataframe\">\n",
       "  <thead>\n",
       "    <tr style=\"text-align: right;\">\n",
       "      <th></th>\n",
       "      <th>phrase</th>\n",
       "      <th>destinataire</th>\n",
       "      <th>montant</th>\n",
       "    </tr>\n",
       "  </thead>\n",
       "  <tbody>\n",
       "    <tr>\n",
       "      <th>0</th>\n",
       "      <td>Verse 26 euros à &lt;NOM&gt;yassine&lt;/NOM&gt;.</td>\n",
       "      <td>yassine</td>\n",
       "      <td>26</td>\n",
       "    </tr>\n",
       "    <tr>\n",
       "      <th>1</th>\n",
       "      <td>Verse 970 euros à &lt;NOM&gt;mohamed&lt;/NOM&gt;.</td>\n",
       "      <td>mohamed</td>\n",
       "      <td>970</td>\n",
       "    </tr>\n",
       "    <tr>\n",
       "      <th>2</th>\n",
       "      <td>Transfère 917 euros à &lt;NOM&gt;hicham&lt;/NOM&gt;.</td>\n",
       "      <td>hicham</td>\n",
       "      <td>917</td>\n",
       "    </tr>\n",
       "    <tr>\n",
       "      <th>3</th>\n",
       "      <td>Transfère 201 euros à &lt;NOM&gt;hicham&lt;/NOM&gt;.</td>\n",
       "      <td>hicham</td>\n",
       "      <td>201</td>\n",
       "    </tr>\n",
       "    <tr>\n",
       "      <th>4</th>\n",
       "      <td>Verse 898 euros à &lt;NOM&gt;hicham&lt;/NOM&gt;.</td>\n",
       "      <td>hicham</td>\n",
       "      <td>898</td>\n",
       "    </tr>\n",
       "  </tbody>\n",
       "</table>\n",
       "</div>"
      ],
      "text/plain": [
       "                                     phrase destinataire  montant\n",
       "0      Verse 26 euros à <NOM>yassine</NOM>.      yassine       26\n",
       "1     Verse 970 euros à <NOM>mohamed</NOM>.      mohamed      970\n",
       "2  Transfère 917 euros à <NOM>hicham</NOM>.       hicham      917\n",
       "3  Transfère 201 euros à <NOM>hicham</NOM>.       hicham      201\n",
       "4      Verse 898 euros à <NOM>hicham</NOM>.       hicham      898"
      ]
     },
     "execution_count": 25,
     "metadata": {},
     "output_type": "execute_result"
    }
   ],
   "source": [
    "data.head()"
   ]
  },
  {
   "cell_type": "code",
   "execution_count": 26,
   "id": "856c9101",
   "metadata": {},
   "outputs": [],
   "source": [
    "from sklearn.model_selection import train_test_split\n",
    "\n",
    "X_train, X_test, y_destinataire_train, y_destinataire_test, y_montant_train, y_montant_test = train_test_split(\n",
    "    X, y_destinataire, y_montant, test_size=0.2, random_state=42)"
   ]
  },
  {
   "cell_type": "code",
   "execution_count": 18,
   "id": "c9888355",
   "metadata": {},
   "outputs": [
    {
     "data": {
      "text/html": [
       "<style>#sk-container-id-1 {color: black;background-color: white;}#sk-container-id-1 pre{padding: 0;}#sk-container-id-1 div.sk-toggleable {background-color: white;}#sk-container-id-1 label.sk-toggleable__label {cursor: pointer;display: block;width: 100%;margin-bottom: 0;padding: 0.3em;box-sizing: border-box;text-align: center;}#sk-container-id-1 label.sk-toggleable__label-arrow:before {content: \"▸\";float: left;margin-right: 0.25em;color: #696969;}#sk-container-id-1 label.sk-toggleable__label-arrow:hover:before {color: black;}#sk-container-id-1 div.sk-estimator:hover label.sk-toggleable__label-arrow:before {color: black;}#sk-container-id-1 div.sk-toggleable__content {max-height: 0;max-width: 0;overflow: hidden;text-align: left;background-color: #f0f8ff;}#sk-container-id-1 div.sk-toggleable__content pre {margin: 0.2em;color: black;border-radius: 0.25em;background-color: #f0f8ff;}#sk-container-id-1 input.sk-toggleable__control:checked~div.sk-toggleable__content {max-height: 200px;max-width: 100%;overflow: auto;}#sk-container-id-1 input.sk-toggleable__control:checked~label.sk-toggleable__label-arrow:before {content: \"▾\";}#sk-container-id-1 div.sk-estimator input.sk-toggleable__control:checked~label.sk-toggleable__label {background-color: #d4ebff;}#sk-container-id-1 div.sk-label input.sk-toggleable__control:checked~label.sk-toggleable__label {background-color: #d4ebff;}#sk-container-id-1 input.sk-hidden--visually {border: 0;clip: rect(1px 1px 1px 1px);clip: rect(1px, 1px, 1px, 1px);height: 1px;margin: -1px;overflow: hidden;padding: 0;position: absolute;width: 1px;}#sk-container-id-1 div.sk-estimator {font-family: monospace;background-color: #f0f8ff;border: 1px dotted black;border-radius: 0.25em;box-sizing: border-box;margin-bottom: 0.5em;}#sk-container-id-1 div.sk-estimator:hover {background-color: #d4ebff;}#sk-container-id-1 div.sk-parallel-item::after {content: \"\";width: 100%;border-bottom: 1px solid gray;flex-grow: 1;}#sk-container-id-1 div.sk-label:hover label.sk-toggleable__label {background-color: #d4ebff;}#sk-container-id-1 div.sk-serial::before {content: \"\";position: absolute;border-left: 1px solid gray;box-sizing: border-box;top: 0;bottom: 0;left: 50%;z-index: 0;}#sk-container-id-1 div.sk-serial {display: flex;flex-direction: column;align-items: center;background-color: white;padding-right: 0.2em;padding-left: 0.2em;position: relative;}#sk-container-id-1 div.sk-item {position: relative;z-index: 1;}#sk-container-id-1 div.sk-parallel {display: flex;align-items: stretch;justify-content: center;background-color: white;position: relative;}#sk-container-id-1 div.sk-item::before, #sk-container-id-1 div.sk-parallel-item::before {content: \"\";position: absolute;border-left: 1px solid gray;box-sizing: border-box;top: 0;bottom: 0;left: 50%;z-index: -1;}#sk-container-id-1 div.sk-parallel-item {display: flex;flex-direction: column;z-index: 1;position: relative;background-color: white;}#sk-container-id-1 div.sk-parallel-item:first-child::after {align-self: flex-end;width: 50%;}#sk-container-id-1 div.sk-parallel-item:last-child::after {align-self: flex-start;width: 50%;}#sk-container-id-1 div.sk-parallel-item:only-child::after {width: 0;}#sk-container-id-1 div.sk-dashed-wrapped {border: 1px dashed gray;margin: 0 0.4em 0.5em 0.4em;box-sizing: border-box;padding-bottom: 0.4em;background-color: white;}#sk-container-id-1 div.sk-label label {font-family: monospace;font-weight: bold;display: inline-block;line-height: 1.2em;}#sk-container-id-1 div.sk-label-container {text-align: center;}#sk-container-id-1 div.sk-container {/* jupyter's `normalize.less` sets `[hidden] { display: none; }` but bootstrap.min.css set `[hidden] { display: none !important; }` so we also need the `!important` here to be able to override the default hidden behavior on the sphinx rendered scikit-learn.org. See: https://github.com/scikit-learn/scikit-learn/issues/21755 */display: inline-block !important;position: relative;}#sk-container-id-1 div.sk-text-repr-fallback {display: none;}</style><div id=\"sk-container-id-1\" class=\"sk-top-container\"><div class=\"sk-text-repr-fallback\"><pre>Pipeline(steps=[(&#x27;vect&#x27;, CountVectorizer()), (&#x27;clf&#x27;, LinearSVC())])</pre><b>In a Jupyter environment, please rerun this cell to show the HTML representation or trust the notebook. <br />On GitHub, the HTML representation is unable to render, please try loading this page with nbviewer.org.</b></div><div class=\"sk-container\" hidden><div class=\"sk-item sk-dashed-wrapped\"><div class=\"sk-label-container\"><div class=\"sk-label sk-toggleable\"><input class=\"sk-toggleable__control sk-hidden--visually\" id=\"sk-estimator-id-1\" type=\"checkbox\" ><label for=\"sk-estimator-id-1\" class=\"sk-toggleable__label sk-toggleable__label-arrow\">Pipeline</label><div class=\"sk-toggleable__content\"><pre>Pipeline(steps=[(&#x27;vect&#x27;, CountVectorizer()), (&#x27;clf&#x27;, LinearSVC())])</pre></div></div></div><div class=\"sk-serial\"><div class=\"sk-item\"><div class=\"sk-estimator sk-toggleable\"><input class=\"sk-toggleable__control sk-hidden--visually\" id=\"sk-estimator-id-2\" type=\"checkbox\" ><label for=\"sk-estimator-id-2\" class=\"sk-toggleable__label sk-toggleable__label-arrow\">CountVectorizer</label><div class=\"sk-toggleable__content\"><pre>CountVectorizer()</pre></div></div></div><div class=\"sk-item\"><div class=\"sk-estimator sk-toggleable\"><input class=\"sk-toggleable__control sk-hidden--visually\" id=\"sk-estimator-id-3\" type=\"checkbox\" ><label for=\"sk-estimator-id-3\" class=\"sk-toggleable__label sk-toggleable__label-arrow\">LinearSVC</label><div class=\"sk-toggleable__content\"><pre>LinearSVC()</pre></div></div></div></div></div></div></div>"
      ],
      "text/plain": [
       "Pipeline(steps=[('vect', CountVectorizer()), ('clf', LinearSVC())])"
      ]
     },
     "execution_count": 18,
     "metadata": {},
     "output_type": "execute_result"
    }
   ],
   "source": [
    "from sklearn.pipeline import Pipeline\n",
    "from sklearn.feature_extraction.text import CountVectorizer\n",
    "from sklearn.svm import LinearSVC\n",
    "\n",
    "pipeline_destinataire = Pipeline([\n",
    "    ('vect', CountVectorizer()),\n",
    "    ('clf', LinearSVC())\n",
    "])\n",
    "\n",
    "pipeline_montant = Pipeline([\n",
    "    ('vect', CountVectorizer()),\n",
    "    ('clf', LinearSVC())\n",
    "])\n",
    "\n",
    "pipeline_destinataire.fit(X_train, y_destinataire_train)\n",
    "pipeline_montant.fit(X_train, y_montant_train)\n"
   ]
  },
  {
   "cell_type": "code",
   "execution_count": 27,
   "id": "18e2e1c1",
   "metadata": {},
   "outputs": [
    {
     "name": "stdout",
     "output_type": "stream",
     "text": [
      "Précision du modèle pour le destinataire : 1.0\n",
      "Précision du modèle pour le montant : 1.0\n"
     ]
    }
   ],
   "source": [
    "accuracy_destinataire = pipeline_destinataire.score(X_test, y_destinataire_test)\n",
    "accuracy_montant = pipeline_montant.score(X_test, y_montant_test)\n",
    "\n",
    "print(f\"Précision du modèle pour le destinataire : {accuracy_destinataire}\")\n",
    "print(f\"Précision du modèle pour le montant : {accuracy_montant}\")\n"
   ]
  },
  {
   "cell_type": "code",
   "execution_count": 31,
   "id": "52309805",
   "metadata": {},
   "outputs": [
    {
     "name": "stdout",
     "output_type": "stream",
     "text": [
      "Destinataire de la phrase 1 : hicham\n",
      "Montant du virement de la phrase 1 : 500 euros\n",
      "Destinataire de la phrase 2 : fatima\n",
      "Montant du virement de la phrase 2 : 200 euros\n"
     ]
    }
   ],
   "source": [
    "phrase1 = \"Effectue un virement de 500 euros à Ahmed.\"\n",
    "destinataire1 = pipeline_destinataire.predict([phrase1])[0]\n",
    "montant1 = pipeline_montant.predict([phrase1])[0]\n",
    "\n",
    "print(f\"Destinataire de la phrase 1 : {destinataire1}\")\n",
    "print(f\"Montant du virement de la phrase 1 : {montant1} euros\")\n",
    "\n",
    "phrase2 = \"Transfère 200 euros à Sophie.\"\n",
    "destinataire2 = pipeline_destinataire.predict([phrase2])[0]\n",
    "montant2 = pipeline_montant.predict([phrase2])[0]\n",
    "\n",
    "print(f\"Destinataire de la phrase 2 : {destinataire2}\")\n",
    "print(f\"Montant du virement de la phrase 2 : {montant2} euros\")\n"
   ]
  },
  {
   "cell_type": "code",
   "execution_count": null,
   "id": "14928a43",
   "metadata": {},
   "outputs": [],
   "source": []
  }
 ],
 "metadata": {
  "kernelspec": {
   "display_name": "Python 3 (ipykernel)",
   "language": "python",
   "name": "python3"
  },
  "language_info": {
   "codemirror_mode": {
    "name": "ipython",
    "version": 3
   },
   "file_extension": ".py",
   "mimetype": "text/x-python",
   "name": "python",
   "nbconvert_exporter": "python",
   "pygments_lexer": "ipython3",
   "version": "3.9.13"
  }
 },
 "nbformat": 4,
 "nbformat_minor": 5
}
